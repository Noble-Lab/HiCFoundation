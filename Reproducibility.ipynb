{
  "nbformat": 4,
  "nbformat_minor": 0,
  "metadata": {
    "colab": {
      "private_outputs": true,
      "provenance": [],
      "authorship_tag": "ABX9TyMgFLCIhf7IpbdcrA/PHaGh",
      "include_colab_link": true
    },
    "kernelspec": {
      "name": "python3",
      "display_name": "Python 3"
    },
    "language_info": {
      "name": "python"
    }
  },
  "cells": [
    {
      "cell_type": "markdown",
      "metadata": {
        "id": "view-in-github",
        "colab_type": "text"
      },
      "source": [
        "<a href=\"https://colab.research.google.com/github/Noble-Lab/HiCFoundation/blob/main/Reproducibility.ipynb\" target=\"_parent\"><img src=\"https://colab.research.google.com/assets/colab-badge.svg\" alt=\"Open In Colab\"/></a>"
      ]
    },
    {
      "cell_type": "markdown",
      "source": [
        "# HiCFoundation: a generalizable Hi-C foundation model for chromatin architecture, single-cell and multi-omics analysis across species\n",
        "**This repo is only for calculating reproducbility score by HiCFoundation**"
      ],
      "metadata": {
        "id": "S-eNVerqcDbI"
      }
    },
    {
      "cell_type": "markdown",
      "source": [
        "HiCFoundation is a generalizable Hi-C foundation model for chromatin architecture, single-cell and multi-omics analysis across species.\n",
        "\n",
        "Copyright (C) 2024 Xiao Wang, Yuanyuan Zhang, Suhita Ray, Anupama Jha, Tangqi Fang, Shengqi Hang, Sergei Doulatov, William Stafford Noble, and Sheng Wang\n",
        "\n",
        "License: Apache License 2.0\n",
        "\n",
        "Contact:  Sergei Doulatov (doulatov@uw.edu) & William Stafford Noble (wnoble@uw.edu) & Sheng Wang (swang@cs.washington.edu)\n",
        "\n",
        "For technical problems or questions, please reach to Xiao Wang (wang3702@uw.edu) and Yuanyuan Zhang (zhang038@purdue.edu).\n",
        "\n",
        "\n",
        "If you are using other browsers, disabling tracking protection may help resolve the errors when uploading or downloading files.\n",
        "\n",
        "For more details, see **<a href=\"#Instructions\">Instructions</a>** of the notebook and checkout the **[HiFoundation GitHub](https://github.com/Noble-Lab/HiCFoundation)**. If you use HiCFoundation, please cite it: **<a href=\"#Citation\">Citation</a>**."
      ],
      "metadata": {
        "id": "aqhB21yTcFG_"
      }
    },
    {
      "cell_type": "markdown",
      "source": [
        "# Instructions <a name=\"Instructions\"></a>\n",
        "## Steps\n",
        "1. Run <a href=\"https://github.com/Noble-Lab/HiCFoundation/blob/main/HiCFoundation.ipynb\">HiCFoundation Colab</a> on your interested two Hi-C maps and download the embedding pickle files for further processing.\n",
        "2. Connect to a **cpu machine** by clicking the right top button **\"connect\"** in the notebook. <br>\n",
        "3. Upload the embedding of 1st Hi-C map (.pkl file) in <a href=\"#file\">Input file1</a>.\n",
        "4. Upload the embedding of 1st Hi-C map (.pkl file) in <a href=\"#file\">Input file2</a>.\n",
        "5. Running the score calculation by by clicking the left running button in <a href=\"#Running\">Run</a>.\n",
        "6. You can check the output to get the similarity score in the same tab."
      ],
      "metadata": {
        "id": "j62BWrrecdSS"
      }
    },
    {
      "cell_type": "code",
      "source": [
        "#@title  <a name=\"file\">Input embedding file1</a>\n",
        "from google.colab import files\n",
        "import os\n",
        "import os.path\n",
        "import re\n",
        "import hashlib\n",
        "import random\n",
        "import string\n",
        "from google.colab import drive\n",
        "\n",
        "from datetime import datetime\n",
        "# Get the current date and time\n",
        "current_datetime = datetime.now()\n",
        "# Convert to string in desired format\n",
        "current_datetime_str = current_datetime.strftime(\"%Y-%m-%d-%H-%M-%S\")\n",
        "rand_letters = string.ascii_lowercase\n",
        "rand_letters = ''.join(random.choice(rand_letters) for i in range(20))\n",
        "output_dir=\"/content/\"\n",
        "\n",
        "#@markdown ## Upload the calculated embedding file(.pkl) of 1st Hi-C from your local file system\n",
        "print(\"Please uploading your input files\")\n",
        "os.chdir(\"/content/\")\n",
        "root_dir = os.getcwd()\n",
        "upload_dir = os.path.join(root_dir,rand_letters)\n",
        "if not os.path.exists(upload_dir):\n",
        "  os.mkdir(upload_dir)\n",
        "os.chdir(upload_dir)\n",
        "map_input = files.upload()\n",
        "for fn in map_input.keys():\n",
        "  print('User uploaded file \"{name}\" with length {length} bytes'.format(\n",
        "    name=fn, length=len(map_input[fn])))\n",
        "  hic_input_path1 = os.path.abspath(fn)\n",
        "  print(\"The input save to %s\"%hic_input_path1)\n",
        "os.chdir(root_dir)\n",
        "\n"
      ],
      "metadata": {
        "cellView": "form",
        "id": "b-pBMNY3c-9o"
      },
      "execution_count": null,
      "outputs": []
    },
    {
      "cell_type": "code",
      "source": [
        "#@title  <a name=\"file\">Input embedding file2</a>\n",
        "#@markdown ## Upload the calculated embedding file(.pkl) of 2nd Hi-C from your local file system\n",
        "os.chdir(upload_dir)\n",
        "map_input = files.upload()\n",
        "for fn in map_input.keys():\n",
        "  print('User uploaded file \"{name}\" with length {length} bytes'.format(\n",
        "    name=fn, length=len(map_input[fn])))\n",
        "  hic_input_path2 = os.path.abspath(fn)\n",
        "  print(\"The input save to %s\"%hic_input_path2)\n",
        "os.chdir(root_dir)"
      ],
      "metadata": {
        "cellView": "form",
        "id": "WGe1QYgcf1Fw"
      },
      "execution_count": null,
      "outputs": []
    },
    {
      "cell_type": "code",
      "source": [
        "# @title\n",
        "# This script is to calculate the similarity between two Hi-C using a pre-trained reproducibility model.\n",
        "\n",
        "import os\n",
        "import sys\n",
        "import numpy as np\n",
        "import pickle\n",
        "from collections import defaultdict\n",
        "\n",
        "input_pickle1 = hic_input_path1\n",
        "input_pickle2 = hic_input_path2\n",
        "\n",
        "def load_pickle(file_path):\n",
        "    with open(file_path, 'rb') as f:\n",
        "        data = pickle.load(f)\n",
        "    return data\n",
        "\n",
        "input1 = load_pickle(input_pickle1)\n",
        "input2 = load_pickle(input_pickle2)\n",
        "\n",
        "def find_key(chr,loc,key_list):\n",
        "    \"\"\"\n",
        "    Find the key in the list of keys that contains the given chromosome and location.\n",
        "    \"\"\"\n",
        "    key1 = chr+\":\"+loc\n",
        "    if key1 in key_list:\n",
        "        return key1\n",
        "    key1 = \"chr\"+chr+\":\"+loc\n",
        "    if key1 in key_list:\n",
        "        return key1\n",
        "    key1 = chr+\"_\"+chr+\":\"+loc\n",
        "    if key1 in key_list:\n",
        "        return key1\n",
        "    key1 = \"chr\"+chr+\"_chr\"+chr+\":\"+loc\n",
        "    if key1 in key_list:\n",
        "        return key1\n",
        "    return None\n",
        "\n",
        "def calculate_similarity(input1, input2):\n",
        "    \"\"\"\n",
        "    Calculate the similarity between two Hi-C matrices using a pre-trained reproducibility model.\n",
        "    \"\"\"\n",
        "    similarity_dict = defaultdict(list)\n",
        "    for key in input1.keys():\n",
        "        #1_1:1960,1960 format of key\n",
        "        split_chromosome = key.split(\":\")[0]\n",
        "        split_loc = key.split(\":\")[1]\n",
        "        combine_key = split_chromosome + \":\" + split_loc\n",
        "        chr = split_chromosome.split(\"_\")[0]\n",
        "        chr = chr.replace(\"chr\",\"\")\n",
        "        if combine_key not in input2.keys():\n",
        "            combine_key = find_key(chr,split_loc,input2.keys())\n",
        "            if combine_key is None:\n",
        "                continue\n",
        "\n",
        "        embedding1 = input1[key]\n",
        "        embedding2 = input2[combine_key]\n",
        "        # Calculate the similarity between the two embeddings\n",
        "        similarity = np.dot(embedding1, embedding2) / (np.linalg.norm(embedding1) * np.linalg.norm(embedding2))\n",
        "        if np.isnan(similarity):\n",
        "            continue\n",
        "        similarity_dict[chr].append(similarity)\n",
        "    #ignore chrY, chrM, Un, Alt cases\n",
        "    similarity_list=[]\n",
        "    for chrom in similarity_dict:\n",
        "        if \"Y\" in chrom or \"M\" in chrom or \"Un\" in chrom or \"Alt\" in chrom:\n",
        "            continue\n",
        "        mean_val = np.mean(similarity_dict[chrom])\n",
        "        similarity_list.append(mean_val)\n",
        "    similarity = np.mean(similarity_list)\n",
        "    return similarity\n",
        "\n",
        "similarity = calculate_similarity(input1, input2)\n",
        "print(\"The reproducibility score between the two Hi-C is: \", similarity)\n",
        ""
      ],
      "metadata": {
        "cellView": "form",
        "id": "v41vpgxbgQoV"
      },
      "execution_count": null,
      "outputs": []
    }
  ]
}